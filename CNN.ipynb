{
 "cells": [
  {
   "cell_type": "markdown",
   "id": "9a17cceb",
   "metadata": {},
   "source": [
    "# 🧠 CNN for Image Classification (MNIST Dataset)\n",
    "\n",
    "**Objective:**  \n",
    "In this notebook, we build and train a simple Convolutional Neural Network (CNN) to classify handwritten digits (0–9) using the **MNIST dataset**.\n",
    "\n",
    "We will:\n",
    "1. Set up our environment and import libraries  \n",
    "2. Load and preprocess the MNIST dataset  \n",
    "3. Split data into **70% train**, **15% validation**, **15% test**  \n",
    "4. Build a CNN according to assignment specifications  \n",
    "5. Train for 20 epochs and plot training/validation loss  \n",
    "6. Compare optimizers — **Adam**, **SGD**, **SGD with Momentum**  \n",
    "7. Evaluate using accuracy, precision, recall, and confusion matrix  \n",
    "8. Discuss the effect of the momentum parameter\n"
   ]
  },
  {
   "cell_type": "code",
   "execution_count": 1,
   "id": "607fc4a2",
   "metadata": {},
   "outputs": [],
   "source": [
    "# Import necessary libraries\n",
    "import numpy as np\n",
    "import pandas as pd\n",
    "import matplotlib.pyplot as plt\n",
    "import seaborn as sns\n",
    "\n",
    "from sklearn.model_selection import train_test_split\n",
    "from sklearn.metrics import confusion_matrix, classification_report, accuracy_score, precision_score, recall_score, f1_score\n",
    "\n",
    "from tensorflow.keras.datasets import mnist\n",
    "from tensorflow.keras.models import Sequential\n",
    "from tensorflow.keras.layers import Conv2D, MaxPooling2D, Flatten, Dense, Dropout\n",
    "from tensorflow.keras.utils import to_categorical\n",
    "from tensorflow.keras.optimizers import Adam, SGD\n",
    "from tensorflow.keras.callbacks import ReduceLROnPlateau\n",
    "import tensorflow as tf\n",
    "import random, os"
   ]
  },
  {
   "cell_type": "markdown",
   "id": "350f6b65",
   "metadata": {},
   "source": [
    "## Set Random Seed\n",
    "For consistent results each time the notebook runs, we fix random seeds for NumPy, TensorFlow, and Python."
   ]
  },
  {
   "cell_type": "code",
   "execution_count": 2,
   "id": "4d7af363",
   "metadata": {},
   "outputs": [],
   "source": [
    "seed = 42\n",
    "os.environ['PYTHONHASHSEED'] = str(seed)\n",
    "random.seed(seed)\n",
    "np.random.seed(seed)\n",
    "tf.random.set_seed(seed)"
   ]
  },
  {
   "cell_type": "markdown",
   "id": "321805fb",
   "metadata": {},
   "source": [
    "## 📊 Load and Prepare the MNIST Dataset\n",
    "\n",
    "**Note:**  \n",
    "The MNIST dataset is originally hosted on the UCI Machine Learning Repository:  \n",
    "https://archive.ics.uci.edu/dataset/683/mnist+database+of+handwritten+digits  \n",
    "For convenience, we use the Keras-provided MNIST dataset, which is equivalent \n",
    "and allows easy loading and preprocessing in Python.\n",
    "\n",
    "We use the **MNIST** handwritten digits dataset from Keras.  \n",
    "It contains **70,000 grayscale images (28×28)** across 10 classes (digits 0–9).\n",
    "\n",
    "We combine all data, normalize pixel values to [0,1], and split into:\n",
    "- **70% Training**\n",
    "- **15% Validation**\n",
    "- **15% Testing**"
   ]
  },
  {
   "cell_type": "code",
   "execution_count": 7,
   "id": "53fc692f",
   "metadata": {},
   "outputs": [
    {
     "name": "stdout",
     "output_type": "stream",
     "text": [
      "Train: (49000, 28, 28, 1)\n",
      "Val:   (10499, 28, 28, 1)\n",
      "Test:  (10501, 28, 28, 1)\n"
     ]
    }
   ],
   "source": [
    "# Load MNIST dataset\n",
    "(x_train, y_train), (x_test, y_test) = mnist.load_data()\n",
    "\n",
    "# Combine training and test sets\n",
    "X = np.concatenate([x_train, x_test], axis=0)\n",
    "y = np.concatenate([y_train, y_test], axis=0)\n",
    "\n",
    "# Normalize and reshape\n",
    "X = X.astype(\"float32\") / 255.0\n",
    "X = np.expand_dims(X, -1)\n",
    "\n",
    "# Split 70/15/15\n",
    "train_size = 0.70\n",
    "val_size = 0.15 / (1 - train_size)\n",
    "\n",
    "X_train, X_rem, y_train, y_rem = train_test_split(X, y, train_size=train_size, stratify=y, random_state=42)\n",
    "X_val, X_test, y_val, y_test = train_test_split(X_rem, y_rem, train_size=val_size, stratify=y_rem, random_state=42)\n",
    "\n",
    "# One-hot encode\n",
    "num_classes = 10\n",
    "y_train_cat = to_categorical(y_train, num_classes)\n",
    "y_val_cat = to_categorical(y_val, num_classes)\n",
    "y_test_cat = to_categorical(y_test, num_classes)\n",
    "\n",
    "print(\"Train:\", X_train.shape)\n",
    "print(\"Val:  \", X_val.shape)\n",
    "print(\"Test: \", X_test.shape)"
   ]
  },
  {
   "cell_type": "markdown",
   "id": "0eb841b9",
   "metadata": {},
   "source": [
    "##  Build the CNN Model\n",
    "\n",
    "### Architecture (as per assignment):\n",
    "1. **Conv2D layer 1:** 32 filters, 3×3 kernel, ReLU  \n",
    "2. **MaxPooling2D**\n",
    "3. **Conv2D layer 2:** 64 filters, 3×3 kernel, ReLU  \n",
    "4. **MaxPooling2D**\n",
    "5. **Flatten**\n",
    "6. **Dense layer:** 128 units, ReLU  \n",
    "7. **Dropout:** 0.5  \n",
    "8. **Output layer:** 10 units, Softmax\n",
    "\n",
    "### Activation Justification:\n",
    "- **ReLU:** avoids vanishing gradients, speeds convergence  \n",
    "- **Softmax:** converts final layer outputs into class probabilities"
   ]
  },
  {
   "cell_type": "code",
   "execution_count": 4,
   "id": "c2cf22dd",
   "metadata": {},
   "outputs": [
    {
     "name": "stderr",
     "output_type": "stream",
     "text": [
      "c:\\Users\\Jesut\\AppData\\Local\\Programs\\Python\\Python311\\Lib\\site-packages\\keras\\src\\layers\\convolutional\\base_conv.py:107: UserWarning: Do not pass an `input_shape`/`input_dim` argument to a layer. When using Sequential models, prefer using an `Input(shape)` object as the first layer in the model instead.\n",
      "  super().__init__(activity_regularizer=activity_regularizer, **kwargs)\n"
     ]
    },
    {
     "data": {
      "text/html": [
       "<pre style=\"white-space:pre;overflow-x:auto;line-height:normal;font-family:Menlo,'DejaVu Sans Mono',consolas,'Courier New',monospace\"><span style=\"font-weight: bold\">Model: \"sequential\"</span>\n",
       "</pre>\n"
      ],
      "text/plain": [
       "\u001b[1mModel: \"sequential\"\u001b[0m\n"
      ]
     },
     "metadata": {},
     "output_type": "display_data"
    },
    {
     "data": {
      "text/html": [
       "<pre style=\"white-space:pre;overflow-x:auto;line-height:normal;font-family:Menlo,'DejaVu Sans Mono',consolas,'Courier New',monospace\">┏━━━━━━━━━━━━━━━━━━━━━━━━━━━━━━━━━┳━━━━━━━━━━━━━━━━━━━━━━━━┳━━━━━━━━━━━━━━━┓\n",
       "┃<span style=\"font-weight: bold\"> Layer (type)                    </span>┃<span style=\"font-weight: bold\"> Output Shape           </span>┃<span style=\"font-weight: bold\">       Param # </span>┃\n",
       "┡━━━━━━━━━━━━━━━━━━━━━━━━━━━━━━━━━╇━━━━━━━━━━━━━━━━━━━━━━━━╇━━━━━━━━━━━━━━━┩\n",
       "│ conv2d (<span style=\"color: #0087ff; text-decoration-color: #0087ff\">Conv2D</span>)                 │ (<span style=\"color: #00d7ff; text-decoration-color: #00d7ff\">None</span>, <span style=\"color: #00af00; text-decoration-color: #00af00\">28</span>, <span style=\"color: #00af00; text-decoration-color: #00af00\">28</span>, <span style=\"color: #00af00; text-decoration-color: #00af00\">32</span>)     │           <span style=\"color: #00af00; text-decoration-color: #00af00\">320</span> │\n",
       "├─────────────────────────────────┼────────────────────────┼───────────────┤\n",
       "│ max_pooling2d (<span style=\"color: #0087ff; text-decoration-color: #0087ff\">MaxPooling2D</span>)    │ (<span style=\"color: #00d7ff; text-decoration-color: #00d7ff\">None</span>, <span style=\"color: #00af00; text-decoration-color: #00af00\">14</span>, <span style=\"color: #00af00; text-decoration-color: #00af00\">14</span>, <span style=\"color: #00af00; text-decoration-color: #00af00\">32</span>)     │             <span style=\"color: #00af00; text-decoration-color: #00af00\">0</span> │\n",
       "├─────────────────────────────────┼────────────────────────┼───────────────┤\n",
       "│ conv2d_1 (<span style=\"color: #0087ff; text-decoration-color: #0087ff\">Conv2D</span>)               │ (<span style=\"color: #00d7ff; text-decoration-color: #00d7ff\">None</span>, <span style=\"color: #00af00; text-decoration-color: #00af00\">14</span>, <span style=\"color: #00af00; text-decoration-color: #00af00\">14</span>, <span style=\"color: #00af00; text-decoration-color: #00af00\">64</span>)     │        <span style=\"color: #00af00; text-decoration-color: #00af00\">18,496</span> │\n",
       "├─────────────────────────────────┼────────────────────────┼───────────────┤\n",
       "│ max_pooling2d_1 (<span style=\"color: #0087ff; text-decoration-color: #0087ff\">MaxPooling2D</span>)  │ (<span style=\"color: #00d7ff; text-decoration-color: #00d7ff\">None</span>, <span style=\"color: #00af00; text-decoration-color: #00af00\">7</span>, <span style=\"color: #00af00; text-decoration-color: #00af00\">7</span>, <span style=\"color: #00af00; text-decoration-color: #00af00\">64</span>)       │             <span style=\"color: #00af00; text-decoration-color: #00af00\">0</span> │\n",
       "├─────────────────────────────────┼────────────────────────┼───────────────┤\n",
       "│ flatten (<span style=\"color: #0087ff; text-decoration-color: #0087ff\">Flatten</span>)               │ (<span style=\"color: #00d7ff; text-decoration-color: #00d7ff\">None</span>, <span style=\"color: #00af00; text-decoration-color: #00af00\">3136</span>)           │             <span style=\"color: #00af00; text-decoration-color: #00af00\">0</span> │\n",
       "├─────────────────────────────────┼────────────────────────┼───────────────┤\n",
       "│ dense (<span style=\"color: #0087ff; text-decoration-color: #0087ff\">Dense</span>)                   │ (<span style=\"color: #00d7ff; text-decoration-color: #00d7ff\">None</span>, <span style=\"color: #00af00; text-decoration-color: #00af00\">128</span>)            │       <span style=\"color: #00af00; text-decoration-color: #00af00\">401,536</span> │\n",
       "├─────────────────────────────────┼────────────────────────┼───────────────┤\n",
       "│ dropout (<span style=\"color: #0087ff; text-decoration-color: #0087ff\">Dropout</span>)               │ (<span style=\"color: #00d7ff; text-decoration-color: #00d7ff\">None</span>, <span style=\"color: #00af00; text-decoration-color: #00af00\">128</span>)            │             <span style=\"color: #00af00; text-decoration-color: #00af00\">0</span> │\n",
       "├─────────────────────────────────┼────────────────────────┼───────────────┤\n",
       "│ dense_1 (<span style=\"color: #0087ff; text-decoration-color: #0087ff\">Dense</span>)                 │ (<span style=\"color: #00d7ff; text-decoration-color: #00d7ff\">None</span>, <span style=\"color: #00af00; text-decoration-color: #00af00\">10</span>)             │         <span style=\"color: #00af00; text-decoration-color: #00af00\">1,290</span> │\n",
       "└─────────────────────────────────┴────────────────────────┴───────────────┘\n",
       "</pre>\n"
      ],
      "text/plain": [
       "┏━━━━━━━━━━━━━━━━━━━━━━━━━━━━━━━━━┳━━━━━━━━━━━━━━━━━━━━━━━━┳━━━━━━━━━━━━━━━┓\n",
       "┃\u001b[1m \u001b[0m\u001b[1mLayer (type)                   \u001b[0m\u001b[1m \u001b[0m┃\u001b[1m \u001b[0m\u001b[1mOutput Shape          \u001b[0m\u001b[1m \u001b[0m┃\u001b[1m \u001b[0m\u001b[1m      Param #\u001b[0m\u001b[1m \u001b[0m┃\n",
       "┡━━━━━━━━━━━━━━━━━━━━━━━━━━━━━━━━━╇━━━━━━━━━━━━━━━━━━━━━━━━╇━━━━━━━━━━━━━━━┩\n",
       "│ conv2d (\u001b[38;5;33mConv2D\u001b[0m)                 │ (\u001b[38;5;45mNone\u001b[0m, \u001b[38;5;34m28\u001b[0m, \u001b[38;5;34m28\u001b[0m, \u001b[38;5;34m32\u001b[0m)     │           \u001b[38;5;34m320\u001b[0m │\n",
       "├─────────────────────────────────┼────────────────────────┼───────────────┤\n",
       "│ max_pooling2d (\u001b[38;5;33mMaxPooling2D\u001b[0m)    │ (\u001b[38;5;45mNone\u001b[0m, \u001b[38;5;34m14\u001b[0m, \u001b[38;5;34m14\u001b[0m, \u001b[38;5;34m32\u001b[0m)     │             \u001b[38;5;34m0\u001b[0m │\n",
       "├─────────────────────────────────┼────────────────────────┼───────────────┤\n",
       "│ conv2d_1 (\u001b[38;5;33mConv2D\u001b[0m)               │ (\u001b[38;5;45mNone\u001b[0m, \u001b[38;5;34m14\u001b[0m, \u001b[38;5;34m14\u001b[0m, \u001b[38;5;34m64\u001b[0m)     │        \u001b[38;5;34m18,496\u001b[0m │\n",
       "├─────────────────────────────────┼────────────────────────┼───────────────┤\n",
       "│ max_pooling2d_1 (\u001b[38;5;33mMaxPooling2D\u001b[0m)  │ (\u001b[38;5;45mNone\u001b[0m, \u001b[38;5;34m7\u001b[0m, \u001b[38;5;34m7\u001b[0m, \u001b[38;5;34m64\u001b[0m)       │             \u001b[38;5;34m0\u001b[0m │\n",
       "├─────────────────────────────────┼────────────────────────┼───────────────┤\n",
       "│ flatten (\u001b[38;5;33mFlatten\u001b[0m)               │ (\u001b[38;5;45mNone\u001b[0m, \u001b[38;5;34m3136\u001b[0m)           │             \u001b[38;5;34m0\u001b[0m │\n",
       "├─────────────────────────────────┼────────────────────────┼───────────────┤\n",
       "│ dense (\u001b[38;5;33mDense\u001b[0m)                   │ (\u001b[38;5;45mNone\u001b[0m, \u001b[38;5;34m128\u001b[0m)            │       \u001b[38;5;34m401,536\u001b[0m │\n",
       "├─────────────────────────────────┼────────────────────────┼───────────────┤\n",
       "│ dropout (\u001b[38;5;33mDropout\u001b[0m)               │ (\u001b[38;5;45mNone\u001b[0m, \u001b[38;5;34m128\u001b[0m)            │             \u001b[38;5;34m0\u001b[0m │\n",
       "├─────────────────────────────────┼────────────────────────┼───────────────┤\n",
       "│ dense_1 (\u001b[38;5;33mDense\u001b[0m)                 │ (\u001b[38;5;45mNone\u001b[0m, \u001b[38;5;34m10\u001b[0m)             │         \u001b[38;5;34m1,290\u001b[0m │\n",
       "└─────────────────────────────────┴────────────────────────┴───────────────┘\n"
      ]
     },
     "metadata": {},
     "output_type": "display_data"
    },
    {
     "data": {
      "text/html": [
       "<pre style=\"white-space:pre;overflow-x:auto;line-height:normal;font-family:Menlo,'DejaVu Sans Mono',consolas,'Courier New',monospace\"><span style=\"font-weight: bold\"> Total params: </span><span style=\"color: #00af00; text-decoration-color: #00af00\">421,642</span> (1.61 MB)\n",
       "</pre>\n"
      ],
      "text/plain": [
       "\u001b[1m Total params: \u001b[0m\u001b[38;5;34m421,642\u001b[0m (1.61 MB)\n"
      ]
     },
     "metadata": {},
     "output_type": "display_data"
    },
    {
     "data": {
      "text/html": [
       "<pre style=\"white-space:pre;overflow-x:auto;line-height:normal;font-family:Menlo,'DejaVu Sans Mono',consolas,'Courier New',monospace\"><span style=\"font-weight: bold\"> Trainable params: </span><span style=\"color: #00af00; text-decoration-color: #00af00\">421,642</span> (1.61 MB)\n",
       "</pre>\n"
      ],
      "text/plain": [
       "\u001b[1m Trainable params: \u001b[0m\u001b[38;5;34m421,642\u001b[0m (1.61 MB)\n"
      ]
     },
     "metadata": {},
     "output_type": "display_data"
    },
    {
     "data": {
      "text/html": [
       "<pre style=\"white-space:pre;overflow-x:auto;line-height:normal;font-family:Menlo,'DejaVu Sans Mono',consolas,'Courier New',monospace\"><span style=\"font-weight: bold\"> Non-trainable params: </span><span style=\"color: #00af00; text-decoration-color: #00af00\">0</span> (0.00 B)\n",
       "</pre>\n"
      ],
      "text/plain": [
       "\u001b[1m Non-trainable params: \u001b[0m\u001b[38;5;34m0\u001b[0m (0.00 B)\n"
      ]
     },
     "metadata": {},
     "output_type": "display_data"
    }
   ],
   "source": [
    "def build_model(input_shape=(28,28,1), num_classes=10):\n",
    "    model = Sequential([\n",
    "        Conv2D(32, (3,3), activation='relu', input_shape=input_shape, padding='same'),\n",
    "        MaxPooling2D((2,2)),\n",
    "        Conv2D(64, (3,3), activation='relu', padding='same'),\n",
    "        MaxPooling2D((2,2)),\n",
    "        Flatten(),\n",
    "        Dense(128, activation='relu'),\n",
    "        Dropout(0.5),\n",
    "        Dense(num_classes, activation='softmax')\n",
    "    ])\n",
    "    return model\n",
    "\n",
    "model = build_model()\n",
    "model.summary()"
   ]
  },
  {
   "cell_type": "markdown",
   "id": "9266ef38",
   "metadata": {},
   "source": [
    "##  Training the Model (Adam Optimizer)\n",
    "We train the model for **20 epochs** using:\n",
    "- Optimizer: **Adam** (learning_rate = 1e-3)  \n",
    "- Loss: Categorical Crossentropy  \n",
    "- Metric: Accuracy  \n",
    "\n",
    "We also plot the training and validation loss per epoch."
   ]
  },
  {
   "cell_type": "code",
   "execution_count": 5,
   "id": "9361dddc",
   "metadata": {},
   "outputs": [
    {
     "name": "stdout",
     "output_type": "stream",
     "text": [
      "Epoch 1/20\n",
      "383/383 - 8s - 22ms/step - accuracy: 0.9089 - loss: 0.3002 - val_accuracy: 0.9728 - val_loss: 0.0833 - learning_rate: 1.0000e-03\n",
      "Epoch 2/20\n",
      "383/383 - 8s - 20ms/step - accuracy: 0.9699 - loss: 0.0998 - val_accuracy: 0.9829 - val_loss: 0.0555 - learning_rate: 1.0000e-03\n",
      "Epoch 3/20\n",
      "383/383 - 11s - 28ms/step - accuracy: 0.9789 - loss: 0.0717 - val_accuracy: 0.9853 - val_loss: 0.0499 - learning_rate: 1.0000e-03\n",
      "Epoch 4/20\n",
      "383/383 - 11s - 28ms/step - accuracy: 0.9810 - loss: 0.0608 - val_accuracy: 0.9869 - val_loss: 0.0435 - learning_rate: 1.0000e-03\n",
      "Epoch 5/20\n",
      "383/383 - 14s - 38ms/step - accuracy: 0.9847 - loss: 0.0493 - val_accuracy: 0.9890 - val_loss: 0.0390 - learning_rate: 1.0000e-03\n",
      "Epoch 6/20\n",
      "383/383 - 11s - 30ms/step - accuracy: 0.9872 - loss: 0.0425 - val_accuracy: 0.9891 - val_loss: 0.0373 - learning_rate: 1.0000e-03\n",
      "Epoch 7/20\n",
      "383/383 - 12s - 31ms/step - accuracy: 0.9890 - loss: 0.0358 - val_accuracy: 0.9894 - val_loss: 0.0395 - learning_rate: 1.0000e-03\n",
      "Epoch 8/20\n",
      "383/383 - 10s - 26ms/step - accuracy: 0.9900 - loss: 0.0320 - val_accuracy: 0.9898 - val_loss: 0.0393 - learning_rate: 1.0000e-03\n",
      "Epoch 9/20\n",
      "383/383 - 11s - 28ms/step - accuracy: 0.9898 - loss: 0.0310 - val_accuracy: 0.9904 - val_loss: 0.0368 - learning_rate: 1.0000e-03\n",
      "Epoch 10/20\n",
      "383/383 - 11s - 29ms/step - accuracy: 0.9913 - loss: 0.0277 - val_accuracy: 0.9900 - val_loss: 0.0395 - learning_rate: 1.0000e-03\n",
      "Epoch 11/20\n",
      "383/383 - 10s - 26ms/step - accuracy: 0.9923 - loss: 0.0239 - val_accuracy: 0.9910 - val_loss: 0.0353 - learning_rate: 1.0000e-03\n",
      "Epoch 12/20\n",
      "383/383 - 12s - 31ms/step - accuracy: 0.9926 - loss: 0.0227 - val_accuracy: 0.9908 - val_loss: 0.0346 - learning_rate: 1.0000e-03\n",
      "Epoch 13/20\n",
      "383/383 - 12s - 31ms/step - accuracy: 0.9931 - loss: 0.0217 - val_accuracy: 0.9909 - val_loss: 0.0356 - learning_rate: 1.0000e-03\n",
      "Epoch 14/20\n",
      "383/383 - 14s - 37ms/step - accuracy: 0.9942 - loss: 0.0183 - val_accuracy: 0.9911 - val_loss: 0.0320 - learning_rate: 1.0000e-03\n",
      "Epoch 15/20\n",
      "383/383 - 17s - 45ms/step - accuracy: 0.9941 - loss: 0.0181 - val_accuracy: 0.9914 - val_loss: 0.0345 - learning_rate: 1.0000e-03\n",
      "Epoch 16/20\n",
      "383/383 - 11s - 30ms/step - accuracy: 0.9945 - loss: 0.0161 - val_accuracy: 0.9908 - val_loss: 0.0342 - learning_rate: 1.0000e-03\n",
      "Epoch 17/20\n",
      "\n",
      "Epoch 17: ReduceLROnPlateau reducing learning rate to 0.0005000000237487257.\n",
      "383/383 - 11s - 30ms/step - accuracy: 0.9952 - loss: 0.0157 - val_accuracy: 0.9904 - val_loss: 0.0399 - learning_rate: 1.0000e-03\n",
      "Epoch 18/20\n",
      "383/383 - 11s - 27ms/step - accuracy: 0.9964 - loss: 0.0107 - val_accuracy: 0.9916 - val_loss: 0.0366 - learning_rate: 5.0000e-04\n",
      "Epoch 19/20\n",
      "383/383 - 13s - 33ms/step - accuracy: 0.9973 - loss: 0.0081 - val_accuracy: 0.9918 - val_loss: 0.0376 - learning_rate: 5.0000e-04\n",
      "Epoch 20/20\n",
      "\n",
      "Epoch 20: ReduceLROnPlateau reducing learning rate to 0.0002500000118743628.\n",
      "383/383 - 12s - 31ms/step - accuracy: 0.9976 - loss: 0.0070 - val_accuracy: 0.9925 - val_loss: 0.0363 - learning_rate: 5.0000e-04\n"
     ]
    },
    {
     "data": {
      "image/png": "[encoded data removed]",
      "text/plain": [
       "<Figure size 800x500 with 1 Axes>"
      ]
     },
     "metadata": {},
     "output_type": "display_data"
    }
   ],
   "source": [
    "initial_lr = 1e-3\n",
    "opt = Adam(learning_rate=initial_lr)\n",
    "\n",
    "model = build_model()\n",
    "model.compile(optimizer=opt, loss='categorical_crossentropy', metrics=['accuracy'])\n",
    "\n",
    "reduce_lr = ReduceLROnPlateau(monitor='val_loss', factor=0.5, patience=3, verbose=1)\n",
    "\n",
    "history = model.fit(\n",
    "    X_train, y_train_cat,\n",
    "    epochs=20,\n",
    "    batch_size=128,\n",
    "    validation_data=(X_val, y_val_cat),\n",
    "    callbacks=[reduce_lr],\n",
    "    verbose=2\n",
    ")\n",
    "\n",
    "# Plot training & validation loss\n",
    "plt.figure(figsize=(8,5))\n",
    "plt.plot(history.history['loss'], label='Train Loss')\n",
    "plt.plot(history.history['val_loss'], label='Val Loss')\n",
    "plt.xlabel('Epoch')\n",
    "plt.ylabel('Loss')\n",
    "plt.title('Training and Validation Loss (Adam)')\n",
    "plt.legend()\n",
    "plt.show()"
   ]
  },
  {
   "cell_type": "code",
   "execution_count": null,
   "id": "7c940a6f",
   "metadata": {},
   "outputs": [],
   "source": []
  }
 ],
 "metadata": {
  "kernelspec": {
   "display_name": "Python 3",
   "language": "python",
   "name": "python3"
  },
  "language_info": {
   "codemirror_mode": {
    "name": "ipython",
    "version": 3
   },
   "file_extension": ".py",
   "mimetype": "text/x-python",
   "name": "python",
   "nbconvert_exporter": "python",
   "pygments_lexer": "ipython3",
   "version": "3.11.3"
  }
 },
 "nbformat": 4,
 "nbformat_minor": 5
}
